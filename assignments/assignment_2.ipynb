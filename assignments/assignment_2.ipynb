{
 "cells": [
  {
   "cell_type": "code",
   "execution_count": null,
   "id": "8fa7432f-d9bc-4678-a947-ba7b884f2c61",
   "metadata": {},
   "outputs": [],
   "source": [
    "import numpy as np\n",
    "\n",
    "def matrix_multiplication(matrix_a, matrix_b):\n",
    "    # NumPy's np.dot() function is the most common and efficient way\n",
    "    # to perform matrix multiplication.\n",
    "    return np.dot(matrix_a, matrix_b)\n",
    "\n",
    "# --- Demonstration ---\n",
    "\n",
    "# Define two matrices\n",
    "matrix1 = np.array([[1, 2, 3],\n",
    "                    [4, 5, 6]])\n",
    "\n",
    "matrix2 = np.array([[7, 8],    \n",
    "                    [9, 1],\n",
    "                    [2, 3]])\n",
    "\n",
    "print(\"Matrix A:\\n\", matrix1)\n",
    "print(\"\\nMatrix B:\\n\", matrix2)\n",
    "\n",
    "# Perform matrix multiplication\n",
    "result_matrix = matrix_multiplication(matrix1, matrix2)\n",
    "\n",
    "print(\"\\nResult of Matrix Multiplication (A * B):\\n\", result_matrix)\n",
    "\n",
    "# Another example: Square matrices\n",
    "matrix_x = np.array([[1, 2],\n",
    "                     [3, 4]])\n",
    "\n",
    "matrix_y = np.array([[5, 6],\n",
    "                     [7, 8]])\n",
    "\n",
    "print(\"\\nMatrix X:\\n\", matrix_x)\n",
    "print(\"\\nMatrix Y:\\n\", matrix_y)\n",
    "\n",
    "result_xy = matrix_multiplication(matrix_x, matrix_y)\n",
    "print(\"\\nResult of Matrix Multiplication (X * Y):\\n\", result_xy)"
   ]
  }
 ],
 "metadata": {
  "kernelspec": {
   "display_name": "Python 3 (ipykernel)",
   "language": "python",
   "name": "python3"
  },
  "language_info": {
   "codemirror_mode": {
    "name": "ipython",
    "version": 3
   },
   "file_extension": ".py",
   "mimetype": "text/x-python",
   "name": "python",
   "nbconvert_exporter": "python",
   "pygments_lexer": "ipython3",
   "version": "3.13.5"
  }
 },
 "nbformat": 4,
 "nbformat_minor": 5
}
