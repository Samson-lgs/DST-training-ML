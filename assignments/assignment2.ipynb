{
 "cells": [
  {
   "cell_type": "code",
   "execution_count": null,
   "id": "56246416-26f6-45fb-b60b-3dadd4be3444",
   "metadata": {},
   "outputs": [],
   "source": []
  },
  {
   "cell_type": "code",
   "execution_count": 2,
   "id": "481d78b5-eecf-4bd5-8c9e-9682fdd7b982",
   "metadata": {},
   "outputs": [
    {
     "name": "stdout",
     "output_type": "stream",
     "text": [
      "Original data: [15 25 35 45 55]\n",
      "Min-Max Scaled data: [0.   0.25 0.5  0.75 1.  ]\n",
      "Standardized data: [-1.41421356 -0.70710678  0.          0.70710678  1.41421356]\n"
     ]
    }
   ],
   "source": [
    "import numpy as np\n",
    "\n",
    "# Sample dataset\n",
    "data = np.array([15, 25, 35, 45, 55])\n",
    "\n",
    "# Min-Max Scaling: rescales data to [0,1]\n",
    "def min_max_scaling(x):\n",
    "    return (x - np.min(x)) / (np.max(x) - np.min(x))\n",
    "\n",
    "# Standardization: zero mean and unit variance\n",
    "def standardize(x):\n",
    "    return (x - np.mean(x)) / np.std(x)\n",
    "\n",
    "scaled_data = min_max_scaling(data)\n",
    "standardized_data = standardize(data)\n",
    "\n",
    "print(\"Original data:\", data)\n",
    "print(\"Min-Max Scaled data:\", scaled_data)\n",
    "print(\"Standardized data:\", standardized_data)"
   ]
  }
 ],
 "metadata": {
  "kernelspec": {
   "display_name": "base",
   "language": "python",
   "name": "python3"
  },
  "language_info": {
   "codemirror_mode": {
    "name": "ipython",
    "version": 3
   },
   "file_extension": ".py",
   "mimetype": "text/x-python",
   "name": "python",
   "nbconvert_exporter": "python",
   "pygments_lexer": "ipython3",
   "version": "3.13.5"
  }
 },
 "nbformat": 4,
 "nbformat_minor": 5
}
